{
 "cells": [
  {
   "cell_type": "code",
   "execution_count": 11,
   "id": "786b68e7",
   "metadata": {},
   "outputs": [],
   "source": [
    "import numpy as np\n",
    "import pandas as pd\n",
    "\n",
    "from sklearn.linear_model import LogisticRegression\n",
    "from sklearn.model_selection import train_test_split\n",
    "\n",
    "from sklearn.metrics import confusion_matrix, classification_report, accuracy_score\n",
    "from sklearn.metrics import precision_score, recall_score, f1_score\n",
    "from sklearn.metrics import plot_confusion_matrix\n",
    "from sklearn.metrics import roc_curve\n",
    "\n",
    "import matplotlib.pyplot as plt\n",
    "import seaborn as sns\n",
    "\n",
    "import warnings\n",
    "warnings.filterwarnings(\"ignore\")"
   ]
  },
  {
   "cell_type": "code",
   "execution_count": 2,
   "id": "a155fd69",
   "metadata": {},
   "outputs": [],
   "source": [
    "df = pd.read_csv('diabetes.csv')"
   ]
  },
  {
   "cell_type": "code",
   "execution_count": 3,
   "id": "def28291",
   "metadata": {},
   "outputs": [
    {
     "data": {
      "text/html": [
       "<div>\n",
       "<style scoped>\n",
       "    .dataframe tbody tr th:only-of-type {\n",
       "        vertical-align: middle;\n",
       "    }\n",
       "\n",
       "    .dataframe tbody tr th {\n",
       "        vertical-align: top;\n",
       "    }\n",
       "\n",
       "    .dataframe thead th {\n",
       "        text-align: right;\n",
       "    }\n",
       "</style>\n",
       "<table border=\"1\" class=\"dataframe\">\n",
       "  <thead>\n",
       "    <tr style=\"text-align: right;\">\n",
       "      <th></th>\n",
       "      <th>Glucose</th>\n",
       "      <th>BloodPressure</th>\n",
       "      <th>SkinThickness</th>\n",
       "      <th>Insulin</th>\n",
       "      <th>BMI</th>\n",
       "      <th>DiabetesPedigreeFunction</th>\n",
       "      <th>Age</th>\n",
       "      <th>Outcome</th>\n",
       "    </tr>\n",
       "  </thead>\n",
       "  <tbody>\n",
       "    <tr>\n",
       "      <th>0</th>\n",
       "      <td>148</td>\n",
       "      <td>50</td>\n",
       "      <td>35</td>\n",
       "      <td>0</td>\n",
       "      <td>33.6</td>\n",
       "      <td>0.627</td>\n",
       "      <td>50</td>\n",
       "      <td>1</td>\n",
       "    </tr>\n",
       "    <tr>\n",
       "      <th>1</th>\n",
       "      <td>85</td>\n",
       "      <td>66</td>\n",
       "      <td>29</td>\n",
       "      <td>0</td>\n",
       "      <td>26.6</td>\n",
       "      <td>0.351</td>\n",
       "      <td>31</td>\n",
       "      <td>0</td>\n",
       "    </tr>\n",
       "    <tr>\n",
       "      <th>2</th>\n",
       "      <td>183</td>\n",
       "      <td>64</td>\n",
       "      <td>0</td>\n",
       "      <td>0</td>\n",
       "      <td>23.3</td>\n",
       "      <td>0.672</td>\n",
       "      <td>52</td>\n",
       "      <td>1</td>\n",
       "    </tr>\n",
       "    <tr>\n",
       "      <th>3</th>\n",
       "      <td>150</td>\n",
       "      <td>66</td>\n",
       "      <td>23</td>\n",
       "      <td>94</td>\n",
       "      <td>28.1</td>\n",
       "      <td>0.167</td>\n",
       "      <td>21</td>\n",
       "      <td>0</td>\n",
       "    </tr>\n",
       "    <tr>\n",
       "      <th>4</th>\n",
       "      <td>150</td>\n",
       "      <td>40</td>\n",
       "      <td>35</td>\n",
       "      <td>168</td>\n",
       "      <td>43.1</td>\n",
       "      <td>2.288</td>\n",
       "      <td>33</td>\n",
       "      <td>1</td>\n",
       "    </tr>\n",
       "  </tbody>\n",
       "</table>\n",
       "</div>"
      ],
      "text/plain": [
       "   Glucose  BloodPressure  SkinThickness  Insulin   BMI  \\\n",
       "0      148             50             35        0  33.6   \n",
       "1       85             66             29        0  26.6   \n",
       "2      183             64              0        0  23.3   \n",
       "3      150             66             23       94  28.1   \n",
       "4      150             40             35      168  43.1   \n",
       "\n",
       "   DiabetesPedigreeFunction  Age  Outcome  \n",
       "0                     0.627   50        1  \n",
       "1                     0.351   31        0  \n",
       "2                     0.672   52        1  \n",
       "3                     0.167   21        0  \n",
       "4                     2.288   33        1  "
      ]
     },
     "execution_count": 3,
     "metadata": {},
     "output_type": "execute_result"
    }
   ],
   "source": [
    "df.head()"
   ]
  },
  {
   "cell_type": "code",
   "execution_count": 4,
   "id": "b9fd7caf",
   "metadata": {},
   "outputs": [
    {
     "data": {
      "text/plain": [
       "Glucose                     0\n",
       "BloodPressure               0\n",
       "SkinThickness               0\n",
       "Insulin                     0\n",
       "BMI                         0\n",
       "DiabetesPedigreeFunction    0\n",
       "Age                         0\n",
       "Outcome                     0\n",
       "dtype: int64"
      ]
     },
     "execution_count": 4,
     "metadata": {},
     "output_type": "execute_result"
    }
   ],
   "source": [
    "df.isnull().sum()"
   ]
  },
  {
   "cell_type": "code",
   "execution_count": 6,
   "id": "41412a67",
   "metadata": {},
   "outputs": [],
   "source": [
    "x = df.iloc[:,:7]\n",
    "y = df.loc[:, 'Outcome']"
   ]
  },
  {
   "cell_type": "code",
   "execution_count": 12,
   "id": "b765329d",
   "metadata": {},
   "outputs": [
    {
     "data": {
      "text/plain": [
       "0    500\n",
       "1    268\n",
       "Name: Outcome, dtype: int64"
      ]
     },
     "execution_count": 12,
     "metadata": {},
     "output_type": "execute_result"
    }
   ],
   "source": [
    "y.value_counts()"
   ]
  },
  {
   "cell_type": "code",
   "execution_count": 7,
   "id": "07ad3260",
   "metadata": {},
   "outputs": [],
   "source": [
    "model = LogisticRegression()\n",
    "x_train, x_test, y_train, y_test = train_test_split(x,y, random_state=1, test_size=0.2)"
   ]
  },
  {
   "cell_type": "code",
   "execution_count": 8,
   "id": "966ca376",
   "metadata": {},
   "outputs": [
    {
     "data": {
      "text/plain": [
       "LogisticRegression()"
      ]
     },
     "execution_count": 8,
     "metadata": {},
     "output_type": "execute_result"
    }
   ],
   "source": [
    "model.fit(x_train, y_train)"
   ]
  },
  {
   "cell_type": "code",
   "execution_count": 9,
   "id": "d4104b7d",
   "metadata": {},
   "outputs": [],
   "source": [
    "y_pred = model.predict(x_test)\n",
    "y_pred_prob = model.predict_proba(x_test)"
   ]
  },
  {
   "cell_type": "code",
   "execution_count": 10,
   "id": "9dcdf950",
   "metadata": {},
   "outputs": [
    {
     "data": {
      "text/plain": [
       "array([[0.57575306, 0.42424694],\n",
       "       [0.64919057, 0.35080943],\n",
       "       [0.88857673, 0.11142327],\n",
       "       [0.93489896, 0.06510104],\n",
       "       [0.75902206, 0.24097794],\n",
       "       [0.68287104, 0.31712896],\n",
       "       [0.65777666, 0.34222334],\n",
       "       [0.87759474, 0.12240526],\n",
       "       [0.81143521, 0.18856479],\n",
       "       [0.76609538, 0.23390462],\n",
       "       [0.6077459 , 0.3922541 ],\n",
       "       [0.89633692, 0.10366308],\n",
       "       [0.01384713, 0.98615287],\n",
       "       [0.3726988 , 0.6273012 ],\n",
       "       [0.96184844, 0.03815156],\n",
       "       [0.31386505, 0.68613495],\n",
       "       [0.71366909, 0.28633091],\n",
       "       [0.68961563, 0.31038437],\n",
       "       [0.88193614, 0.11806386],\n",
       "       [0.88331146, 0.11668854],\n",
       "       [0.56476331, 0.43523669],\n",
       "       [0.88033198, 0.11966802],\n",
       "       [0.13173309, 0.86826691],\n",
       "       [0.82695116, 0.17304884],\n",
       "       [0.92065769, 0.07934231],\n",
       "       [0.57138696, 0.42861304],\n",
       "       [0.78081404, 0.21918596],\n",
       "       [0.35831579, 0.64168421],\n",
       "       [0.88686868, 0.11313132],\n",
       "       [0.56119151, 0.43880849],\n",
       "       [0.58810306, 0.41189694],\n",
       "       [0.76385191, 0.23614809],\n",
       "       [0.93920196, 0.06079804],\n",
       "       [0.22557637, 0.77442363],\n",
       "       [0.81840629, 0.18159371],\n",
       "       [0.24148191, 0.75851809],\n",
       "       [0.91167557, 0.08832443],\n",
       "       [0.80168585, 0.19831415],\n",
       "       [0.93564956, 0.06435044],\n",
       "       [0.55664993, 0.44335007],\n",
       "       [0.75798271, 0.24201729],\n",
       "       [0.89242914, 0.10757086],\n",
       "       [0.96172029, 0.03827971],\n",
       "       [0.62859595, 0.37140405],\n",
       "       [0.91357242, 0.08642758],\n",
       "       [0.9741491 , 0.0258509 ],\n",
       "       [0.619087  , 0.380913  ],\n",
       "       [0.17617021, 0.82382979],\n",
       "       [0.9197321 , 0.0802679 ],\n",
       "       [0.86818395, 0.13181605],\n",
       "       [0.99174846, 0.00825154],\n",
       "       [0.81986092, 0.18013908],\n",
       "       [0.20541882, 0.79458118],\n",
       "       [0.94300929, 0.05699071],\n",
       "       [0.38473043, 0.61526957],\n",
       "       [0.89524392, 0.10475608],\n",
       "       [0.4580259 , 0.5419741 ],\n",
       "       [0.70090632, 0.29909368],\n",
       "       [0.38562852, 0.61437148],\n",
       "       [0.84539984, 0.15460016],\n",
       "       [0.39111299, 0.60888701],\n",
       "       [0.98719822, 0.01280178],\n",
       "       [0.32511549, 0.67488451],\n",
       "       [0.77751506, 0.22248494],\n",
       "       [0.54847311, 0.45152689],\n",
       "       [0.87698299, 0.12301701],\n",
       "       [0.98862387, 0.01137613],\n",
       "       [0.48331553, 0.51668447],\n",
       "       [0.45624448, 0.54375552],\n",
       "       [0.42794367, 0.57205633],\n",
       "       [0.13365506, 0.86634494],\n",
       "       [0.19657886, 0.80342114],\n",
       "       [0.45289074, 0.54710926],\n",
       "       [0.98329749, 0.01670251],\n",
       "       [0.35728701, 0.64271299],\n",
       "       [0.82754323, 0.17245677],\n",
       "       [0.34981565, 0.65018435],\n",
       "       [0.6996675 , 0.3003325 ],\n",
       "       [0.86626409, 0.13373591],\n",
       "       [0.36515332, 0.63484668],\n",
       "       [0.34091939, 0.65908061],\n",
       "       [0.78892385, 0.21107615],\n",
       "       [0.53610244, 0.46389756],\n",
       "       [0.70275394, 0.29724606],\n",
       "       [0.69880764, 0.30119236],\n",
       "       [0.27323589, 0.72676411],\n",
       "       [0.45981528, 0.54018472],\n",
       "       [0.80991752, 0.19008248],\n",
       "       [0.60210634, 0.39789366],\n",
       "       [0.72529314, 0.27470686],\n",
       "       [0.85712135, 0.14287865],\n",
       "       [0.95365568, 0.04634432],\n",
       "       [0.69030139, 0.30969861],\n",
       "       [0.87246267, 0.12753733],\n",
       "       [0.21476083, 0.78523917],\n",
       "       [0.57329663, 0.42670337],\n",
       "       [0.69042799, 0.30957201],\n",
       "       [0.79583677, 0.20416323],\n",
       "       [0.10963315, 0.89036685],\n",
       "       [0.87321772, 0.12678228],\n",
       "       [0.87708025, 0.12291975],\n",
       "       [0.7024204 , 0.2975796 ],\n",
       "       [0.25320792, 0.74679208],\n",
       "       [0.73761961, 0.26238039],\n",
       "       [0.89102649, 0.10897351],\n",
       "       [0.92421126, 0.07578874],\n",
       "       [0.5643104 , 0.4356896 ],\n",
       "       [0.26974564, 0.73025436],\n",
       "       [0.77995094, 0.22004906],\n",
       "       [0.8426097 , 0.1573903 ],\n",
       "       [0.52275206, 0.47724794],\n",
       "       [0.67046805, 0.32953195],\n",
       "       [0.49213191, 0.50786809],\n",
       "       [0.79136315, 0.20863685],\n",
       "       [0.98436449, 0.01563551],\n",
       "       [0.91819735, 0.08180265],\n",
       "       [0.89322515, 0.10677485],\n",
       "       [0.48716893, 0.51283107],\n",
       "       [0.66405876, 0.33594124],\n",
       "       [0.52135801, 0.47864199],\n",
       "       [0.78179476, 0.21820524],\n",
       "       [0.1346799 , 0.8653201 ],\n",
       "       [0.65500014, 0.34499986],\n",
       "       [0.62167742, 0.37832258],\n",
       "       [0.81833356, 0.18166644],\n",
       "       [0.89339156, 0.10660844],\n",
       "       [0.74190121, 0.25809879],\n",
       "       [0.7098676 , 0.2901324 ],\n",
       "       [0.3533856 , 0.6466144 ],\n",
       "       [0.76702316, 0.23297684],\n",
       "       [0.03960063, 0.96039937],\n",
       "       [0.95685172, 0.04314828],\n",
       "       [0.59129659, 0.40870341],\n",
       "       [0.67589488, 0.32410512],\n",
       "       [0.86689684, 0.13310316],\n",
       "       [0.75325771, 0.24674229],\n",
       "       [0.92233744, 0.07766256],\n",
       "       [0.40347135, 0.59652865],\n",
       "       [0.8348045 , 0.1651955 ],\n",
       "       [0.67839105, 0.32160895],\n",
       "       [0.05107002, 0.94892998],\n",
       "       [0.89968291, 0.10031709],\n",
       "       [0.84024672, 0.15975328],\n",
       "       [0.17216866, 0.82783134],\n",
       "       [0.25000052, 0.74999948],\n",
       "       [0.74419888, 0.25580112],\n",
       "       [0.9421969 , 0.0578031 ],\n",
       "       [0.93011386, 0.06988614],\n",
       "       [0.74821893, 0.25178107],\n",
       "       [0.87674313, 0.12325687],\n",
       "       [0.7245698 , 0.2754302 ],\n",
       "       [0.05179763, 0.94820237],\n",
       "       [0.86899131, 0.13100869],\n",
       "       [0.78493194, 0.21506806]])"
      ]
     },
     "execution_count": 10,
     "metadata": {},
     "output_type": "execute_result"
    }
   ],
   "source": []
  },
  {
   "cell_type": "code",
   "execution_count": 13,
   "id": "bf63d44e",
   "metadata": {},
   "outputs": [
    {
     "data": {
      "text/plain": [
       "<sklearn.metrics._plot.confusion_matrix.ConfusionMatrixDisplay at 0x1a903a19880>"
      ]
     },
     "execution_count": 13,
     "metadata": {},
     "output_type": "execute_result"
    },
    {
     "data": {
      "image/png": "[encoded data removed]",
      "text/plain": [
       "<Figure size 640x480 with 2 Axes>"
      ]
     },
     "metadata": {},
     "output_type": "display_data"
    }
   ],
   "source": [
    "plot_confusion_matrix(model, x_train, y_train)"
   ]
  },
  {
   "cell_type": "code",
   "execution_count": 14,
   "id": "9829bc41",
   "metadata": {},
   "outputs": [
    {
     "data": {
      "text/plain": [
       "0.7719869706840391"
      ]
     },
     "execution_count": 14,
     "metadata": {},
     "output_type": "execute_result"
    }
   ],
   "source": [
    "model.score(x_train, y_train)"
   ]
  },
  {
   "cell_type": "code",
   "execution_count": 15,
   "id": "9f89ef00",
   "metadata": {},
   "outputs": [
    {
     "data": {
      "text/plain": [
       "0.7727272727272727"
      ]
     },
     "execution_count": 15,
     "metadata": {},
     "output_type": "execute_result"
    }
   ],
   "source": [
    "model.score(x_test, y_test)"
   ]
  },
  {
   "cell_type": "code",
   "execution_count": 16,
   "id": "6faa7ed0",
   "metadata": {},
   "outputs": [
    {
     "name": "stdout",
     "output_type": "stream",
     "text": [
      "Confusion Matrix:\n",
      " [[89 10]\n",
      " [25 30]]\n",
      "*********************************************\n",
      "Accuracy Score: 0.7727272727272727\n",
      "*********************************************\n",
      "Classification report:\n",
      "               precision    recall  f1-score   support\n",
      "\n",
      "           0       0.78      0.90      0.84        99\n",
      "           1       0.75      0.55      0.63        55\n",
      "\n",
      "    accuracy                           0.77       154\n",
      "   macro avg       0.77      0.72      0.73       154\n",
      "weighted avg       0.77      0.77      0.76       154\n",
      "\n"
     ]
    }
   ],
   "source": [
    "# Testing data\n",
    "cnf_matrix = confusion_matrix(y_test, y_pred)\n",
    "print(\"Confusion Matrix:\\n\",cnf_matrix)\n",
    "\n",
    "print(\"*\"*45)\n",
    "accuracy = accuracy_score(y_test, y_pred)\n",
    "print(\"Accuracy Score:\",accuracy)\n",
    "print(\"*\"*45)\n",
    "\n",
    "clf_report = classification_report(y_test, y_pred)\n",
    "print(\"Classification report:\\n\",clf_report)"
   ]
  },
  {
   "cell_type": "code",
   "execution_count": 17,
   "id": "034b2f8a",
   "metadata": {},
   "outputs": [
    {
     "name": "stdout",
     "output_type": "stream",
     "text": [
      "Confusion Matrix:\n",
      " [[352  49]\n",
      " [ 91 122]]\n",
      "*********************************************\n",
      "Accuracy Score: 0.7719869706840391\n",
      "*********************************************\n",
      "Classification report:\n",
      "               precision    recall  f1-score   support\n",
      "\n",
      "           0       0.79      0.88      0.83       401\n",
      "           1       0.71      0.57      0.64       213\n",
      "\n",
      "    accuracy                           0.77       614\n",
      "   macro avg       0.75      0.73      0.73       614\n",
      "weighted avg       0.77      0.77      0.77       614\n",
      "\n"
     ]
    }
   ],
   "source": [
    "y_pred_train = model.predict(x_train)\n",
    "\n",
    "cnf_matrix = confusion_matrix(y_train, y_pred_train)\n",
    "print(\"Confusion Matrix:\\n\",cnf_matrix)\n",
    "\n",
    "# Visualization\n",
    "\n",
    "print(\"*\"*45)\n",
    "accuracy = accuracy_score(y_train, y_pred_train)\n",
    "print(\"Accuracy Score:\",accuracy)\n",
    "print(\"*\"*45)\n",
    "\n",
    "clf_report = classification_report(y_train, y_pred_train)\n",
    "print(\"Classification report:\\n\",clf_report)"
   ]
  },
  {
   "cell_type": "code",
   "execution_count": 18,
   "id": "032d52ee",
   "metadata": {},
   "outputs": [
    {
     "data": {
      "text/plain": [
       "array([1.96370829, 0.96370829, 0.95649468, 0.94306986, 0.93990893,\n",
       "       0.91435104, 0.90511504, 0.85473392, 0.85432795, 0.84539881,\n",
       "       0.84520706, 0.81690164, 0.81356935, 0.80780334, 0.80520209,\n",
       "       0.7959729 , 0.79139018, 0.77871917, 0.77851603, 0.77744373,\n",
       "       0.75821939, 0.75134375, 0.74802309, 0.74028476, 0.739069  ,\n",
       "       0.73349889, 0.73308436, 0.72527969, 0.72049148, 0.71103642,\n",
       "       0.70840668, 0.67905463, 0.67696154, 0.66892745, 0.66267162,\n",
       "       0.65436248, 0.6413427 , 0.62337161, 0.61899255, 0.60983895,\n",
       "       0.60452649, 0.59671245, 0.5954901 , 0.59504508, 0.5932422 ,\n",
       "       0.59209699, 0.59100085, 0.59000701, 0.58624736, 0.57595329,\n",
       "       0.57456229, 0.56699568, 0.56521337, 0.55793334, 0.55336699,\n",
       "       0.54605734, 0.53757361, 0.53273898, 0.52898706, 0.51675361,\n",
       "       0.51524546, 0.5146368 , 0.51062035, 0.50823677, 0.50217164,\n",
       "       0.49512546, 0.49101146, 0.49028255, 0.48266252, 0.48238601,\n",
       "       0.47957456, 0.47317082, 0.43341017, 0.43326701, 0.43018239,\n",
       "       0.42635116, 0.4212797 , 0.41730938, 0.41704767, 0.40964409,\n",
       "       0.40597072, 0.4036755 , 0.40350751, 0.40160633, 0.4005195 ,\n",
       "       0.39945918, 0.3894569 , 0.37643121, 0.36860634, 0.36475452,\n",
       "       0.36166473, 0.3593003 , 0.35095726, 0.34828653, 0.34757495,\n",
       "       0.34351075, 0.33920028, 0.3376281 , 0.33667282, 0.33615003,\n",
       "       0.33084049, 0.3302249 , 0.32926922, 0.32687004, 0.32502822,\n",
       "       0.32405694, 0.32390763, 0.31518544, 0.31343363, 0.31337207,\n",
       "       0.31291624, 0.3127624 , 0.30676422, 0.30608272, 0.30373654,\n",
       "       0.30348076, 0.2990642 , 0.2953696 , 0.29258841, 0.29088075,\n",
       "       0.28857295, 0.28777431, 0.28647413, 0.28187496, 0.28130422,\n",
       "       0.27976636, 0.27964896, 0.27882602, 0.27201464, 0.27116811,\n",
       "       0.26669088, 0.26495142, 0.26359447, 0.26339922, 0.26286358,\n",
       "       0.26056909, 0.25582305, 0.25143725, 0.24048078, 0.23799284,\n",
       "       0.23662249, 0.23180153, 0.22978394, 0.22881847, 0.22012373,\n",
       "       0.2133312 , 0.20896725, 0.207574  , 0.20697552, 0.20617526,\n",
       "       0.20343363, 0.20249789, 0.1936393 , 0.193145  , 0.18856743,\n",
       "       0.18653061, 0.17744015, 0.17279118, 0.16887471, 0.16828701,\n",
       "       0.16494597, 0.16410384, 0.15970667, 0.15808268, 0.1512031 ,\n",
       "       0.1497762 , 0.14754199, 0.14683828, 0.1424695 , 0.14083809,\n",
       "       0.12749548, 0.12622756, 0.12519892, 0.12504367, 0.11736344,\n",
       "       0.11711151, 0.11195345, 0.11014624, 0.10039925, 0.10036719,\n",
       "       0.0923528 , 0.09218278, 0.04862144, 0.0475135 , 0.0024375 ])"
      ]
     },
     "execution_count": 18,
     "metadata": {},
     "output_type": "execute_result"
    }
   ],
   "source": [
    "# prediction probability\n",
    "y_pred_proba = model.predict_proba(x_train)\n",
    "y_pred_proba[:,1]  # We are getting cklass 1 probability\n",
    "\n",
    "fpr, tpr, thresh = roc_curve(y_train, y_pred_proba[:,1])\n",
    "thresh"
   ]
  },
  {
   "cell_type": "code",
   "execution_count": 19,
   "id": "c13fec55",
   "metadata": {},
   "outputs": [],
   "source": [
    "import pickle "
   ]
  },
  {
   "cell_type": "code",
   "execution_count": 21,
   "id": "9fc33be2",
   "metadata": {},
   "outputs": [],
   "source": [
    "with open('LogisticModelDiabetes.pkl', 'wb') as f:\n",
    "    pickle.dump(model,f)"
   ]
  },
  {
   "cell_type": "code",
   "execution_count": null,
   "id": "92f7e287",
   "metadata": {},
   "outputs": [],
   "source": []
  }
 ],
 "metadata": {
  "kernelspec": {
   "display_name": "Python 3 (ipykernel)",
   "language": "python",
   "name": "python3"
  },
  "language_info": {
   "codemirror_mode": {
    "name": "ipython",
    "version": 3
   },
   "file_extension": ".py",
   "mimetype": "text/x-python",
   "name": "python",
   "nbconvert_exporter": "python",
   "pygments_lexer": "ipython3",
   "version": "3.9.13"
  }
 },
 "nbformat": 4,
 "nbformat_minor": 5
}
