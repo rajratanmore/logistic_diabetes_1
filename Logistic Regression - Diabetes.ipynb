{
 "cells": [
  {
   "cell_type": "markdown",
   "id": "8f381598",
   "metadata": {},
   "source": [
    "# Logistic Regression - Diabetes"
   ]
  },
  {
   "cell_type": "code",
   "execution_count": 1,
   "id": "c21734e0",
   "metadata": {},
   "outputs": [],
   "source": [
    "import numpy as np\n",
    "import pandas as pd\n",
    "\n",
    "from sklearn.linear_model import LogisticRegression\n",
    "from sklearn.model_selection import train_test_split\n",
    "\n",
    "from sklearn.metrics import confusion_matrix, classification_report, accuracy_score\n",
    "from sklearn.metrics import precision_score, recall_score, f1_score\n",
    "from sklearn.metrics import plot_confusion_matrix\n",
    "from sklearn.metrics import roc_curve\n",
    "\n",
    "import matplotlib.pyplot as plt\n",
    "import seaborn as sns\n",
    "\n",
    "import warnings\n",
    "warnings.filterwarnings(\"ignore\")"
   ]
  },
  {
   "cell_type": "code",
   "execution_count": 2,
   "id": "2268ec61",
   "metadata": {},
   "outputs": [
    {
     "data": {
      "text/html": [
       "<div>\n",
       "<style scoped>\n",
       "    .dataframe tbody tr th:only-of-type {\n",
       "        vertical-align: middle;\n",
       "    }\n",
       "\n",
       "    .dataframe tbody tr th {\n",
       "        vertical-align: top;\n",
       "    }\n",
       "\n",
       "    .dataframe thead th {\n",
       "        text-align: right;\n",
       "    }\n",
       "</style>\n",
       "<table border=\"1\" class=\"dataframe\">\n",
       "  <thead>\n",
       "    <tr style=\"text-align: right;\">\n",
       "      <th></th>\n",
       "      <th>Glucose</th>\n",
       "      <th>BloodPressure</th>\n",
       "      <th>SkinThickness</th>\n",
       "      <th>Insulin</th>\n",
       "      <th>BMI</th>\n",
       "      <th>DiabetesPedigreeFunction</th>\n",
       "      <th>Age</th>\n",
       "      <th>Outcome</th>\n",
       "    </tr>\n",
       "  </thead>\n",
       "  <tbody>\n",
       "    <tr>\n",
       "      <th>0</th>\n",
       "      <td>148</td>\n",
       "      <td>50</td>\n",
       "      <td>35</td>\n",
       "      <td>0</td>\n",
       "      <td>33.6</td>\n",
       "      <td>0.627</td>\n",
       "      <td>50</td>\n",
       "      <td>1</td>\n",
       "    </tr>\n",
       "    <tr>\n",
       "      <th>1</th>\n",
       "      <td>85</td>\n",
       "      <td>66</td>\n",
       "      <td>29</td>\n",
       "      <td>0</td>\n",
       "      <td>26.6</td>\n",
       "      <td>0.351</td>\n",
       "      <td>31</td>\n",
       "      <td>0</td>\n",
       "    </tr>\n",
       "    <tr>\n",
       "      <th>2</th>\n",
       "      <td>183</td>\n",
       "      <td>64</td>\n",
       "      <td>0</td>\n",
       "      <td>0</td>\n",
       "      <td>23.3</td>\n",
       "      <td>0.672</td>\n",
       "      <td>52</td>\n",
       "      <td>1</td>\n",
       "    </tr>\n",
       "    <tr>\n",
       "      <th>3</th>\n",
       "      <td>150</td>\n",
       "      <td>66</td>\n",
       "      <td>23</td>\n",
       "      <td>94</td>\n",
       "      <td>28.1</td>\n",
       "      <td>0.167</td>\n",
       "      <td>21</td>\n",
       "      <td>0</td>\n",
       "    </tr>\n",
       "    <tr>\n",
       "      <th>4</th>\n",
       "      <td>150</td>\n",
       "      <td>40</td>\n",
       "      <td>35</td>\n",
       "      <td>168</td>\n",
       "      <td>43.1</td>\n",
       "      <td>2.288</td>\n",
       "      <td>33</td>\n",
       "      <td>1</td>\n",
       "    </tr>\n",
       "    <tr>\n",
       "      <th>...</th>\n",
       "      <td>...</td>\n",
       "      <td>...</td>\n",
       "      <td>...</td>\n",
       "      <td>...</td>\n",
       "      <td>...</td>\n",
       "      <td>...</td>\n",
       "      <td>...</td>\n",
       "      <td>...</td>\n",
       "    </tr>\n",
       "    <tr>\n",
       "      <th>763</th>\n",
       "      <td>101</td>\n",
       "      <td>76</td>\n",
       "      <td>48</td>\n",
       "      <td>180</td>\n",
       "      <td>32.9</td>\n",
       "      <td>0.171</td>\n",
       "      <td>63</td>\n",
       "      <td>0</td>\n",
       "    </tr>\n",
       "    <tr>\n",
       "      <th>764</th>\n",
       "      <td>122</td>\n",
       "      <td>70</td>\n",
       "      <td>27</td>\n",
       "      <td>0</td>\n",
       "      <td>36.8</td>\n",
       "      <td>0.340</td>\n",
       "      <td>27</td>\n",
       "      <td>0</td>\n",
       "    </tr>\n",
       "    <tr>\n",
       "      <th>765</th>\n",
       "      <td>121</td>\n",
       "      <td>72</td>\n",
       "      <td>23</td>\n",
       "      <td>112</td>\n",
       "      <td>26.2</td>\n",
       "      <td>0.245</td>\n",
       "      <td>30</td>\n",
       "      <td>0</td>\n",
       "    </tr>\n",
       "    <tr>\n",
       "      <th>766</th>\n",
       "      <td>126</td>\n",
       "      <td>60</td>\n",
       "      <td>0</td>\n",
       "      <td>0</td>\n",
       "      <td>30.1</td>\n",
       "      <td>0.349</td>\n",
       "      <td>47</td>\n",
       "      <td>1</td>\n",
       "    </tr>\n",
       "    <tr>\n",
       "      <th>767</th>\n",
       "      <td>93</td>\n",
       "      <td>70</td>\n",
       "      <td>31</td>\n",
       "      <td>0</td>\n",
       "      <td>30.4</td>\n",
       "      <td>0.315</td>\n",
       "      <td>23</td>\n",
       "      <td>0</td>\n",
       "    </tr>\n",
       "  </tbody>\n",
       "</table>\n",
       "<p>768 rows × 8 columns</p>\n",
       "</div>"
      ],
      "text/plain": [
       "     Glucose  BloodPressure  SkinThickness  Insulin   BMI  \\\n",
       "0        148             50             35        0  33.6   \n",
       "1         85             66             29        0  26.6   \n",
       "2        183             64              0        0  23.3   \n",
       "3        150             66             23       94  28.1   \n",
       "4        150             40             35      168  43.1   \n",
       "..       ...            ...            ...      ...   ...   \n",
       "763      101             76             48      180  32.9   \n",
       "764      122             70             27        0  36.8   \n",
       "765      121             72             23      112  26.2   \n",
       "766      126             60              0        0  30.1   \n",
       "767       93             70             31        0  30.4   \n",
       "\n",
       "     DiabetesPedigreeFunction  Age  Outcome  \n",
       "0                       0.627   50        1  \n",
       "1                       0.351   31        0  \n",
       "2                       0.672   52        1  \n",
       "3                       0.167   21        0  \n",
       "4                       2.288   33        1  \n",
       "..                        ...  ...      ...  \n",
       "763                     0.171   63        0  \n",
       "764                     0.340   27        0  \n",
       "765                     0.245   30        0  \n",
       "766                     0.349   47        1  \n",
       "767                     0.315   23        0  \n",
       "\n",
       "[768 rows x 8 columns]"
      ]
     },
     "execution_count": 2,
     "metadata": {},
     "output_type": "execute_result"
    }
   ],
   "source": [
    "df = pd.read_csv(\"diabetes.csv\")\n",
    "df"
   ]
  },
  {
   "cell_type": "code",
   "execution_count": 3,
   "id": "87af46ab",
   "metadata": {},
   "outputs": [
    {
     "name": "stdout",
     "output_type": "stream",
     "text": [
      "<class 'pandas.core.frame.DataFrame'>\n",
      "RangeIndex: 768 entries, 0 to 767\n",
      "Data columns (total 8 columns):\n",
      " #   Column                    Non-Null Count  Dtype  \n",
      "---  ------                    --------------  -----  \n",
      " 0   Glucose                   768 non-null    int64  \n",
      " 1   BloodPressure             768 non-null    int64  \n",
      " 2   SkinThickness             768 non-null    int64  \n",
      " 3   Insulin                   768 non-null    int64  \n",
      " 4   BMI                       768 non-null    float64\n",
      " 5   DiabetesPedigreeFunction  768 non-null    float64\n",
      " 6   Age                       768 non-null    int64  \n",
      " 7   Outcome                   768 non-null    int64  \n",
      "dtypes: float64(2), int64(6)\n",
      "memory usage: 48.1 KB\n"
     ]
    }
   ],
   "source": [
    "df.info()"
   ]
  },
  {
   "cell_type": "code",
   "execution_count": 4,
   "id": "b72a068e",
   "metadata": {},
   "outputs": [
    {
     "data": {
      "text/plain": [
       "0    500\n",
       "1    268\n",
       "Name: Outcome, dtype: int64"
      ]
     },
     "execution_count": 4,
     "metadata": {},
     "output_type": "execute_result"
    }
   ],
   "source": [
    "df['Outcome'].value_counts()   # imbalance data  # bais data"
   ]
  },
  {
   "cell_type": "code",
   "execution_count": 5,
   "id": "45424478",
   "metadata": {},
   "outputs": [
    {
     "data": {
      "text/plain": [
       "<AxesSubplot:xlabel='Outcome', ylabel='count'>"
      ]
     },
     "execution_count": 5,
     "metadata": {},
     "output_type": "execute_result"
    },
    {
     "data": {
      "image/png": "[encoded data removed]",
      "text/plain": [
       "<Figure size 640x480 with 1 Axes>"
      ]
     },
     "metadata": {},
     "output_type": "display_data"
    }
   ],
   "source": [
    "sns.countplot(x  = df['Outcome'])"
   ]
  },
  {
   "cell_type": "markdown",
   "id": "9d0de3dc",
   "metadata": {},
   "source": [
    "# Train Test Split"
   ]
  },
  {
   "cell_type": "code",
   "execution_count": 6,
   "id": "4de87f8e",
   "metadata": {},
   "outputs": [],
   "source": [
    "x = df.drop('Outcome', axis=1)\n",
    "y = df['Outcome']  # target column\n",
    "\n",
    "x_train, x_test, y_train, y_test = train_test_split(x,y, test_size=0.25, random_state=1, stratify=y)\n"
   ]
  },
  {
   "cell_type": "code",
   "execution_count": 7,
   "id": "56791683",
   "metadata": {},
   "outputs": [
    {
     "data": {
      "text/plain": [
       "0    500\n",
       "1    268\n",
       "Name: Outcome, dtype: int64"
      ]
     },
     "execution_count": 7,
     "metadata": {},
     "output_type": "execute_result"
    }
   ],
   "source": [
    "y.value_counts()"
   ]
  },
  {
   "cell_type": "code",
   "execution_count": 8,
   "id": "aeb89ea4",
   "metadata": {},
   "outputs": [
    {
     "data": {
      "text/plain": [
       "0.6510416666666666"
      ]
     },
     "execution_count": 8,
     "metadata": {},
     "output_type": "execute_result"
    }
   ],
   "source": [
    "500/(500+268)"
   ]
  },
  {
   "cell_type": "code",
   "execution_count": 9,
   "id": "301a5119",
   "metadata": {
    "scrolled": true
   },
   "outputs": [
    {
     "data": {
      "text/plain": [
       "0    375\n",
       "1    201\n",
       "Name: Outcome, dtype: int64"
      ]
     },
     "execution_count": 9,
     "metadata": {},
     "output_type": "execute_result"
    }
   ],
   "source": [
    "y_train.value_counts()"
   ]
  },
  {
   "cell_type": "code",
   "execution_count": 10,
   "id": "00e845a6",
   "metadata": {},
   "outputs": [
    {
     "data": {
      "text/plain": [
       "0.6545138888888888"
      ]
     },
     "execution_count": 10,
     "metadata": {},
     "output_type": "execute_result"
    }
   ],
   "source": [
    "# without stratify\n",
    "377/(377+199)"
   ]
  },
  {
   "cell_type": "code",
   "execution_count": 11,
   "id": "03dbb343",
   "metadata": {},
   "outputs": [
    {
     "data": {
      "text/plain": [
       "0.6510416666666666"
      ]
     },
     "execution_count": 11,
     "metadata": {},
     "output_type": "execute_result"
    }
   ],
   "source": [
    "# with stratify\n",
    "375/(375+201)"
   ]
  },
  {
   "cell_type": "code",
   "execution_count": 12,
   "id": "560de11c",
   "metadata": {},
   "outputs": [
    {
     "data": {
      "text/plain": [
       "0    125\n",
       "1     67\n",
       "Name: Outcome, dtype: int64"
      ]
     },
     "execution_count": 12,
     "metadata": {},
     "output_type": "execute_result"
    }
   ],
   "source": [
    "y_test.value_counts()"
   ]
  },
  {
   "cell_type": "code",
   "execution_count": 13,
   "id": "fd6def88",
   "metadata": {},
   "outputs": [
    {
     "data": {
      "text/plain": [
       "0.6510416666666666"
      ]
     },
     "execution_count": 13,
     "metadata": {},
     "output_type": "execute_result"
    }
   ],
   "source": [
    "125/(125+67)"
   ]
  },
  {
   "cell_type": "markdown",
   "id": "471ccaff",
   "metadata": {},
   "source": [
    "# Model training"
   ]
  },
  {
   "cell_type": "code",
   "execution_count": 14,
   "id": "97c6382d",
   "metadata": {},
   "outputs": [
    {
     "data": {
      "text/plain": [
       "LogisticRegression()"
      ]
     },
     "execution_count": 14,
     "metadata": {},
     "output_type": "execute_result"
    }
   ],
   "source": [
    "# Create Instance\n",
    "model = LogisticRegression()\n",
    "model.fit(x_train, y_train)"
   ]
  },
  {
   "cell_type": "code",
   "execution_count": 15,
   "id": "393f42f5",
   "metadata": {
    "scrolled": true
   },
   "outputs": [
    {
     "data": {
      "text/plain": [
       "<sklearn.metrics._plot.confusion_matrix.ConfusionMatrixDisplay at 0x25ac79fd520>"
      ]
     },
     "execution_count": 15,
     "metadata": {},
     "output_type": "execute_result"
    },
    {
     "data": {
      "image/png": "[encoded data removed]",
      "text/plain": [
       "<Figure size 640x480 with 2 Axes>"
      ]
     },
     "metadata": {},
     "output_type": "display_data"
    }
   ],
   "source": [
    "# Training Data\n",
    "plot_confusion_matrix(model, x_train, y_train)"
   ]
  },
  {
   "cell_type": "code",
   "execution_count": 16,
   "id": "80f79d86",
   "metadata": {},
   "outputs": [
    {
     "data": {
      "text/plain": [
       "<sklearn.metrics._plot.confusion_matrix.ConfusionMatrixDisplay at 0x25ac7924e20>"
      ]
     },
     "execution_count": 16,
     "metadata": {},
     "output_type": "execute_result"
    },
    {
     "data": {
      "image/png": "[encoded data removed]",
      "text/plain": [
       "<Figure size 640x480 with 2 Axes>"
      ]
     },
     "metadata": {},
     "output_type": "display_data"
    }
   ],
   "source": [
    "# Training Data\n",
    "plot_confusion_matrix(model, x_test, y_test)"
   ]
  },
  {
   "cell_type": "code",
   "execution_count": 17,
   "id": "4620b3e4",
   "metadata": {},
   "outputs": [
    {
     "data": {
      "text/plain": [
       "0.7881944444444444"
      ]
     },
     "execution_count": 17,
     "metadata": {},
     "output_type": "execute_result"
    }
   ],
   "source": [
    "# Training Accuracy\n",
    "model.score(x_train, y_train)"
   ]
  },
  {
   "cell_type": "code",
   "execution_count": 18,
   "id": "7a6f1842",
   "metadata": {},
   "outputs": [
    {
     "data": {
      "text/plain": [
       "0.7552083333333334"
      ]
     },
     "execution_count": 18,
     "metadata": {},
     "output_type": "execute_result"
    }
   ],
   "source": [
    "# Testing Accuracy\n",
    "model.score(x_test, y_test)"
   ]
  },
  {
   "cell_type": "markdown",
   "id": "2012b3f9",
   "metadata": {},
   "source": [
    "# Model Evaluation"
   ]
  },
  {
   "cell_type": "code",
   "execution_count": 19,
   "id": "49bfaa31",
   "metadata": {},
   "outputs": [
    {
     "data": {
      "text/plain": [
       "array([0, 1, 0, 1, 0, 0, 1, 1, 1, 0, 1, 0, 0, 1, 0, 0, 1, 0, 1, 0, 0, 0,\n",
       "       0, 0, 0, 1, 1, 0, 0, 0, 0, 1, 0, 1, 0, 0, 0, 0, 0, 1, 0, 1, 0, 1,\n",
       "       0, 1, 1, 0, 0, 0, 1, 0, 0, 1, 0, 0, 1, 1, 1, 0, 0, 0, 0, 0, 0, 0,\n",
       "       0, 0, 0, 0, 0, 0, 0, 1, 1, 0, 0, 0, 0, 1, 0, 0, 0, 0, 0, 0, 0, 0,\n",
       "       0, 0, 0, 1, 0, 0, 1, 0, 0, 1, 0, 0, 1, 0, 1, 0, 0, 0, 0, 1, 1, 0,\n",
       "       0, 1, 0, 0, 0, 0, 0, 0, 0, 1, 0, 0, 0, 1, 1, 1, 0, 1, 0, 0, 0, 0,\n",
       "       0, 1, 0, 0, 1, 0, 1, 0, 1, 0, 1, 0, 1, 0, 0, 0, 1, 0, 0, 0, 0, 0,\n",
       "       0, 1, 0, 0, 0, 0, 0, 0, 0, 0, 0, 1, 1, 0, 0, 1, 0, 0, 0, 0, 1, 0,\n",
       "       0, 0, 0, 0, 0, 0, 0, 1, 0, 1, 0, 1, 0, 0, 0, 0], dtype=int64)"
      ]
     },
     "execution_count": 19,
     "metadata": {},
     "output_type": "execute_result"
    }
   ],
   "source": [
    "# prediction\n",
    "y_pred = model.predict(x_test)\n",
    "y_pred"
   ]
  },
  {
   "cell_type": "code",
   "execution_count": 20,
   "id": "78a3c664",
   "metadata": {},
   "outputs": [
    {
     "data": {
      "text/plain": [
       "array([[0.91636267, 0.08363733],\n",
       "       [0.32428013, 0.67571987],\n",
       "       [0.74017864, 0.25982136],\n",
       "       [0.46076794, 0.53923206],\n",
       "       [0.87524548, 0.12475452],\n",
       "       [0.9781938 , 0.0218062 ],\n",
       "       [0.10279795, 0.89720205],\n",
       "       [0.1903076 , 0.8096924 ],\n",
       "       [0.05624062, 0.94375938],\n",
       "       [0.99751194, 0.00248806],\n",
       "       [0.1577149 , 0.8422851 ],\n",
       "       [0.54536833, 0.45463167],\n",
       "       [0.91238787, 0.08761213],\n",
       "       [0.28324099, 0.71675901],\n",
       "       [0.57008621, 0.42991379],\n",
       "       [0.87831789, 0.12168211],\n",
       "       [0.48520573, 0.51479427],\n",
       "       [0.93661324, 0.06338676],\n",
       "       [0.45232158, 0.54767842],\n",
       "       [0.89634949, 0.10365051],\n",
       "       [0.93461294, 0.06538706],\n",
       "       [0.80408352, 0.19591648],\n",
       "       [0.84465042, 0.15534958],\n",
       "       [0.81671133, 0.18328867],\n",
       "       [0.87760845, 0.12239155],\n",
       "       [0.22831292, 0.77168708],\n",
       "       [0.36399675, 0.63600325],\n",
       "       [0.94689242, 0.05310758],\n",
       "       [0.63962909, 0.36037091],\n",
       "       [0.61420653, 0.38579347],\n",
       "       [0.72168566, 0.27831434],\n",
       "       [0.26450898, 0.73549102],\n",
       "       [0.70026612, 0.29973388],\n",
       "       [0.4012552 , 0.5987448 ],\n",
       "       [0.56470812, 0.43529188],\n",
       "       [0.58200803, 0.41799197],\n",
       "       [0.86289487, 0.13710513],\n",
       "       [0.82452719, 0.17547281],\n",
       "       [0.8894782 , 0.1105218 ],\n",
       "       [0.44227978, 0.55772022],\n",
       "       [0.91333759, 0.08666241],\n",
       "       [0.20202495, 0.79797505],\n",
       "       [0.68180653, 0.31819347],\n",
       "       [0.28624136, 0.71375864],\n",
       "       [0.90275353, 0.09724647],\n",
       "       [0.44267276, 0.55732724],\n",
       "       [0.1760771 , 0.8239229 ],\n",
       "       [0.92035091, 0.07964909],\n",
       "       [0.82447702, 0.17552298],\n",
       "       [0.80672006, 0.19327994],\n",
       "       [0.20723692, 0.79276308],\n",
       "       [0.6487896 , 0.3512104 ],\n",
       "       [0.78242347, 0.21757653],\n",
       "       [0.33192759, 0.66807241],\n",
       "       [0.83305928, 0.16694072],\n",
       "       [0.5141285 , 0.4858715 ],\n",
       "       [0.42568083, 0.57431917],\n",
       "       [0.13396617, 0.86603383],\n",
       "       [0.40058124, 0.59941876],\n",
       "       [0.932697  , 0.067303  ],\n",
       "       [0.89981368, 0.10018632],\n",
       "       [0.93407322, 0.06592678],\n",
       "       [0.66205863, 0.33794137],\n",
       "       [0.85060238, 0.14939762],\n",
       "       [0.86437809, 0.13562191],\n",
       "       [0.6914945 , 0.3085055 ],\n",
       "       [0.71957078, 0.28042922],\n",
       "       [0.66283398, 0.33716602],\n",
       "       [0.94153855, 0.05846145],\n",
       "       [0.58775064, 0.41224936],\n",
       "       [0.93832453, 0.06167547],\n",
       "       [0.94456159, 0.05543841],\n",
       "       [0.91017677, 0.08982323],\n",
       "       [0.29504308, 0.70495692],\n",
       "       [0.38451887, 0.61548113],\n",
       "       [0.75415358, 0.24584642],\n",
       "       [0.74023848, 0.25976152],\n",
       "       [0.686444  , 0.313556  ],\n",
       "       [0.91071528, 0.08928472],\n",
       "       [0.46427241, 0.53572759],\n",
       "       [0.74246871, 0.25753129],\n",
       "       [0.93735558, 0.06264442],\n",
       "       [0.72155165, 0.27844835],\n",
       "       [0.91058316, 0.08941684],\n",
       "       [0.95997304, 0.04002696],\n",
       "       [0.84012202, 0.15987798],\n",
       "       [0.99564995, 0.00435005],\n",
       "       [0.96771468, 0.03228532],\n",
       "       [0.86611283, 0.13388717],\n",
       "       [0.56356836, 0.43643164],\n",
       "       [0.58477926, 0.41522074],\n",
       "       [0.12208227, 0.87791773],\n",
       "       [0.81875314, 0.18124686],\n",
       "       [0.77812548, 0.22187452],\n",
       "       [0.34453404, 0.65546596],\n",
       "       [0.70695055, 0.29304945],\n",
       "       [0.99266204, 0.00733796],\n",
       "       [0.16840132, 0.83159868],\n",
       "       [0.90032009, 0.09967991],\n",
       "       [0.97449412, 0.02550588],\n",
       "       [0.3753533 , 0.6246467 ],\n",
       "       [0.88427894, 0.11572106],\n",
       "       [0.14910919, 0.85089081],\n",
       "       [0.73162225, 0.26837775],\n",
       "       [0.83288546, 0.16711454],\n",
       "       [0.83815003, 0.16184997],\n",
       "       [0.96364282, 0.03635718],\n",
       "       [0.16458695, 0.83541305],\n",
       "       [0.32089764, 0.67910236],\n",
       "       [0.68866957, 0.31133043],\n",
       "       [0.93080735, 0.06919265],\n",
       "       [0.26765437, 0.73234563],\n",
       "       [0.77821265, 0.22178735],\n",
       "       [0.66030439, 0.33969561],\n",
       "       [0.91716966, 0.08283034],\n",
       "       [0.91447934, 0.08552066],\n",
       "       [0.89293984, 0.10706016],\n",
       "       [0.71631146, 0.28368854],\n",
       "       [0.89712856, 0.10287144],\n",
       "       [0.37930412, 0.62069588],\n",
       "       [0.86370124, 0.13629876],\n",
       "       [0.55360168, 0.44639832],\n",
       "       [0.76623372, 0.23376628],\n",
       "       [0.11637311, 0.88362689],\n",
       "       [0.21398443, 0.78601557],\n",
       "       [0.39519857, 0.60480143],\n",
       "       [0.91542823, 0.08457177],\n",
       "       [0.33580522, 0.66419478],\n",
       "       [0.8585953 , 0.1414047 ],\n",
       "       [0.81646251, 0.18353749],\n",
       "       [0.67592798, 0.32407202],\n",
       "       [0.78787911, 0.21212089],\n",
       "       [0.94950142, 0.05049858],\n",
       "       [0.22358859, 0.77641141],\n",
       "       [0.85313457, 0.14686543],\n",
       "       [0.71729266, 0.28270734],\n",
       "       [0.19938026, 0.80061974],\n",
       "       [0.67404674, 0.32595326],\n",
       "       [0.46498155, 0.53501845],\n",
       "       [0.79865283, 0.20134717],\n",
       "       [0.47177725, 0.52822275],\n",
       "       [0.81827927, 0.18172073],\n",
       "       [0.19429371, 0.80570629],\n",
       "       [0.87809291, 0.12190709],\n",
       "       [0.34344758, 0.65655242],\n",
       "       [0.75651978, 0.24348022],\n",
       "       [0.88954936, 0.11045064],\n",
       "       [0.96216935, 0.03783065],\n",
       "       [0.48412014, 0.51587986],\n",
       "       [0.80725092, 0.19274908],\n",
       "       [0.69453968, 0.30546032],\n",
       "       [0.77111858, 0.22888142],\n",
       "       [0.53422486, 0.46577514],\n",
       "       [0.89874084, 0.10125916],\n",
       "       [0.68574252, 0.31425748],\n",
       "       [0.339309  , 0.660691  ],\n",
       "       [0.71814372, 0.28185628],\n",
       "       [0.93512941, 0.06487059],\n",
       "       [0.74062742, 0.25937258],\n",
       "       [0.71369096, 0.28630904],\n",
       "       [0.98167158, 0.01832842],\n",
       "       [0.58913091, 0.41086909],\n",
       "       [0.81450806, 0.18549194],\n",
       "       [0.67702286, 0.32297714],\n",
       "       [0.69537778, 0.30462222],\n",
       "       [0.21805886, 0.78194114],\n",
       "       [0.01772484, 0.98227516],\n",
       "       [0.96202549, 0.03797451],\n",
       "       [0.50785654, 0.49214346],\n",
       "       [0.23168556, 0.76831444],\n",
       "       [0.96519475, 0.03480525],\n",
       "       [0.887678  , 0.112322  ],\n",
       "       [0.78336975, 0.21663025],\n",
       "       [0.74424869, 0.25575131],\n",
       "       [0.48183176, 0.51816824],\n",
       "       [0.54918061, 0.45081939],\n",
       "       [0.84594806, 0.15405194],\n",
       "       [0.8846397 , 0.1153603 ],\n",
       "       [0.66581023, 0.33418977],\n",
       "       [0.51571341, 0.48428659],\n",
       "       [0.80793575, 0.19206425],\n",
       "       [0.98607564, 0.01392436],\n",
       "       [0.9497881 , 0.0502119 ],\n",
       "       [0.49189451, 0.50810549],\n",
       "       [0.83288018, 0.16711982],\n",
       "       [0.21207992, 0.78792008],\n",
       "       [0.92394121, 0.07605879],\n",
       "       [0.2069783 , 0.7930217 ],\n",
       "       [0.70917642, 0.29082358],\n",
       "       [0.89529174, 0.10470826],\n",
       "       [0.83506799, 0.16493201],\n",
       "       [0.9612592 , 0.0387408 ]])"
      ]
     },
     "execution_count": 20,
     "metadata": {},
     "output_type": "execute_result"
    }
   ],
   "source": [
    "# prediction probability\n",
    "y_pred_proba = model.predict_proba(x_test)\n",
    "y_pred_proba"
   ]
  },
  {
   "cell_type": "raw",
   "id": "cdecee85",
   "metadata": {},
   "source": [
    "# First 5 class probability, threshold value = 0.5 (bydefault)\n",
    "[    0            1    ]\n",
    "[0.91636267, 0.08363733], >> 0\n",
    "[0.32428013, 0.67571987], >> 1\n",
    "[0.74017864, 0.25982136], >> 0\n",
    "[0.46076794, 0.53923206], >> 1\n",
    "[0.87524548, 0.12475452], >> 0"
   ]
  },
  {
   "cell_type": "code",
   "execution_count": 21,
   "id": "988f9a00",
   "metadata": {},
   "outputs": [
    {
     "name": "stdout",
     "output_type": "stream",
     "text": [
      "Confusion Matrix:\n",
      " [[108  17]\n",
      " [ 30  37]]\n",
      "*********************************************\n",
      "Accuracy Score: 0.7552083333333334\n",
      "*********************************************\n",
      "Classification report:\n",
      "               precision    recall  f1-score   support\n",
      "\n",
      "           0       0.78      0.86      0.82       125\n",
      "           1       0.69      0.55      0.61        67\n",
      "\n",
      "    accuracy                           0.76       192\n",
      "   macro avg       0.73      0.71      0.72       192\n",
      "weighted avg       0.75      0.76      0.75       192\n",
      "\n"
     ]
    }
   ],
   "source": [
    "# Testing data\n",
    "cnf_matrix = confusion_matrix(y_test, y_pred)\n",
    "print(\"Confusion Matrix:\\n\",cnf_matrix)\n",
    "\n",
    "print(\"*\"*45)\n",
    "accuracy = accuracy_score(y_test, y_pred)\n",
    "print(\"Accuracy Score:\",accuracy)\n",
    "print(\"*\"*45)\n",
    "\n",
    "clf_report = classification_report(y_test, y_pred)\n",
    "print(\"Classification report:\\n\",clf_report)"
   ]
  },
  {
   "cell_type": "code",
   "execution_count": 22,
   "id": "87c35bff",
   "metadata": {},
   "outputs": [
    {
     "name": "stdout",
     "output_type": "stream",
     "text": [
      "Confusion Matrix:\n",
      " [[336  39]\n",
      " [ 83 118]]\n",
      "*********************************************\n",
      "Accuracy Score: 0.7881944444444444\n",
      "*********************************************\n",
      "Classification report:\n",
      "               precision    recall  f1-score   support\n",
      "\n",
      "           0       0.80      0.90      0.85       375\n",
      "           1       0.75      0.59      0.66       201\n",
      "\n",
      "    accuracy                           0.79       576\n",
      "   macro avg       0.78      0.74      0.75       576\n",
      "weighted avg       0.78      0.79      0.78       576\n",
      "\n"
     ]
    }
   ],
   "source": [
    "# Training data\n",
    "\n",
    "# prediction\n",
    "y_pred_train = model.predict(x_train)\n",
    "\n",
    "cnf_matrix = confusion_matrix(y_train, y_pred_train)\n",
    "print(\"Confusion Matrix:\\n\",cnf_matrix)\n",
    "\n",
    "# Visualization\n",
    "\n",
    "print(\"*\"*45)\n",
    "accuracy = accuracy_score(y_train, y_pred_train)\n",
    "print(\"Accuracy Score:\",accuracy)\n",
    "print(\"*\"*45)\n",
    "\n",
    "clf_report = classification_report(y_train, y_pred_train)\n",
    "print(\"Classification report:\\n\",clf_report)"
   ]
  },
  {
   "cell_type": "code",
   "execution_count": 23,
   "id": "bb2f109c",
   "metadata": {},
   "outputs": [
    {
     "data": {
      "text/plain": [
       "0.7825"
      ]
     },
     "execution_count": 23,
     "metadata": {},
     "output_type": "execute_result"
    }
   ],
   "source": [
    "# Weighted Average\n",
    "#Precision\n",
    "(0.80 * 0.65) +(0.75 * 0.35)"
   ]
  },
  {
   "cell_type": "code",
   "execution_count": 24,
   "id": "40d0184f",
   "metadata": {},
   "outputs": [
    {
     "data": {
      "text/plain": [
       "0.7915000000000001"
      ]
     },
     "execution_count": 24,
     "metadata": {},
     "output_type": "execute_result"
    }
   ],
   "source": [
    "# Weighted Average\n",
    "#Recall\n",
    "(0.90 * 0.65) +(0.59 * 0.35)"
   ]
  },
  {
   "cell_type": "code",
   "execution_count": 25,
   "id": "3dfb10a1",
   "metadata": {},
   "outputs": [
    {
     "ename": "SyntaxError",
     "evalue": "invalid syntax (1344215874.py, line 1)",
     "output_type": "error",
     "traceback": [
      "\u001b[1;36m  File \u001b[1;32m\"C:\\Users\\DELL\\AppData\\Local\\Temp\\ipykernel_8208\\1344215874.py\"\u001b[1;36m, line \u001b[1;32m1\u001b[0m\n\u001b[1;33m    Confusion Matrix:\u001b[0m\n\u001b[1;37m              ^\u001b[0m\n\u001b[1;31mSyntaxError\u001b[0m\u001b[1;31m:\u001b[0m invalid syntax\n"
     ]
    }
   ],
   "source": [
    "# Confusion Matrix:\n",
    "# Predicted Values\n",
    "#  [[336  39]   Actual Values\n",
    "#  [ 83 118]]   Actual Values\n",
    "    \n",
    "# TN = 336\n",
    "# TP = 118\n",
    "# FP = 39\n",
    "# FN = 83"
   ]
  },
  {
   "cell_type": "code",
   "execution_count": 26,
   "id": "7a02720a",
   "metadata": {},
   "outputs": [
    {
     "data": {
      "text/plain": [
       "0.7881944444444444"
      ]
     },
     "execution_count": 26,
     "metadata": {},
     "output_type": "execute_result"
    }
   ],
   "source": [
    "# Accuracy = TP + TN/(TP+TN+FP+FN)\n",
    "\n",
    "Accuracy = (118+336)/(118+336+39+83)\n",
    "Accuracy"
   ]
  },
  {
   "cell_type": "code",
   "execution_count": 27,
   "id": "f7cfb809",
   "metadata": {},
   "outputs": [
    {
     "data": {
      "text/plain": [
       "0.7515923566878981"
      ]
     },
     "execution_count": 27,
     "metadata": {},
     "output_type": "execute_result"
    }
   ],
   "source": [
    "# Precision for class 1  --> We are considering class 1 i.e. Positive class\n",
    "# Precision = TP/(TP+FP)\n",
    "Precision_1 = 118/(118+39)\n",
    "Precision_1"
   ]
  },
  {
   "cell_type": "code",
   "execution_count": 28,
   "id": "cda7c3b6",
   "metadata": {},
   "outputs": [
    {
     "data": {
      "text/plain": [
       "0.801909307875895"
      ]
     },
     "execution_count": 28,
     "metadata": {},
     "output_type": "execute_result"
    }
   ],
   "source": [
    "# Precision for class 0  --> Consider Negative class\n",
    "# Precision = TN/(TN+FN)\n",
    "Precision_0 = 336/(336+83)\n",
    "Precision_0"
   ]
  },
  {
   "cell_type": "markdown",
   "id": "b753ac7e",
   "metadata": {},
   "source": [
    "# AUC-ROC Curve"
   ]
  },
  {
   "cell_type": "code",
   "execution_count": 29,
   "id": "2d0218ae",
   "metadata": {},
   "outputs": [
    {
     "data": {
      "text/plain": [
       "array([1.99272552, 0.99272552, 0.97542289, 0.96591652, 0.95922174,\n",
       "       0.91750859, 0.91653835, 0.90790654, 0.89684045, 0.81404227,\n",
       "       0.8056952 , 0.79994734, 0.7972925 , 0.77792583, 0.77731446,\n",
       "       0.772829  , 0.7697499 , 0.76622723, 0.76444427, 0.76339967,\n",
       "       0.75949177, 0.75692479, 0.7506523 , 0.74135654, 0.73190356,\n",
       "       0.72943528, 0.72934919, 0.71544862, 0.71069172, 0.69338437,\n",
       "       0.68828441, 0.68281595, 0.67944581, 0.67216837, 0.66874108,\n",
       "       0.6656969 , 0.66308985, 0.64849259, 0.64827151, 0.63825981,\n",
       "       0.63457558, 0.6290556 , 0.61662191, 0.61119773, 0.60701154,\n",
       "       0.59989203, 0.59164584, 0.58768307, 0.58485243, 0.58039752,\n",
       "       0.5759626 , 0.55404803, 0.55322821, 0.53787721, 0.53663669,\n",
       "       0.53061606, 0.52928549, 0.51346379, 0.51140977, 0.51017869,\n",
       "       0.50621615, 0.50350169, 0.49851434, 0.49777746, 0.49324984,\n",
       "       0.49219427, 0.48504663, 0.48206974, 0.47928012, 0.47685856,\n",
       "       0.47639109, 0.46303398, 0.45996873, 0.4527099 , 0.44428754,\n",
       "       0.44369017, 0.44146633, 0.43870908, 0.43863709, 0.43632764,\n",
       "       0.42824606, 0.42730877, 0.42596779, 0.41980881, 0.41963359,\n",
       "       0.40957668, 0.40778126, 0.39544993, 0.39429202, 0.39418332,\n",
       "       0.39159908, 0.38866448, 0.38813423, 0.38798334, 0.37684956,\n",
       "       0.37545764, 0.37127351, 0.36799241, 0.35503539, 0.35317655,\n",
       "       0.35094203, 0.35086285, 0.35039077, 0.350014  , 0.34710698,\n",
       "       0.3441592 , 0.3215652 , 0.32076554, 0.31902088, 0.31075652,\n",
       "       0.31052521, 0.30211825, 0.29574224, 0.29418416, 0.29262605,\n",
       "       0.29095374, 0.29055849, 0.2900754 , 0.28760787, 0.28528003,\n",
       "       0.28218929, 0.28116311, 0.27691161, 0.2723203 , 0.26713467,\n",
       "       0.26622826, 0.25690644, 0.25575095, 0.25547009, 0.25501549,\n",
       "       0.25307682, 0.25275318, 0.2475721 , 0.24484097, 0.24161241,\n",
       "       0.23861778, 0.23515008, 0.23449568, 0.23208489, 0.2278722 ,\n",
       "       0.22365272, 0.22088951, 0.21819044, 0.21654709, 0.21224794,\n",
       "       0.21209719, 0.21148949, 0.21011222, 0.20644184, 0.20603457,\n",
       "       0.2007096 , 0.20021417, 0.19674325, 0.19671977, 0.17039539,\n",
       "       0.17014972, 0.16959006, 0.16938184, 0.15989055, 0.15923725,\n",
       "       0.1504874 , 0.14875197, 0.1367934 , 0.13666183, 0.13046201,\n",
       "       0.12857042, 0.1253743 , 0.12489703, 0.11550832, 0.11537806,\n",
       "       0.11325219, 0.11294731, 0.10306689, 0.10245438, 0.09619339,\n",
       "       0.09590768, 0.03420691, 0.03255404, 0.02377286, 0.02273125,\n",
       "       0.01502948, 0.01455637, 0.00259798])"
      ]
     },
     "execution_count": 29,
     "metadata": {},
     "output_type": "execute_result"
    }
   ],
   "source": [
    "# prediction probability\n",
    "y_pred_proba = model.predict_proba(x_train)\n",
    "y_pred_proba[:,1]  # We are getting cklass 1 probability\n",
    "\n",
    "fpr, tpr, thresh = roc_curve(y_train, y_pred_proba[:,1])\n",
    "thresh"
   ]
  },
  {
   "cell_type": "code",
   "execution_count": 30,
   "id": "43682dee",
   "metadata": {},
   "outputs": [
    {
     "data": {
      "text/plain": [
       "Text(0.5, 1.0, 'Reciever Operating Characteristics')"
      ]
     },
     "execution_count": 30,
     "metadata": {},
     "output_type": "execute_result"
    },
    {
     "data": {
      "image/png": "[encoded data removed]",
      "text/plain": [
       "<Figure size 640x480 with 1 Axes>"
      ]
     },
     "metadata": {},
     "output_type": "display_data"
    }
   ],
   "source": [
    "# Plot AUC-ROC\n",
    "plt.plot(fpr,tpr)\n",
    "plt.xlabel(\"False Positive Rate -->\")\n",
    "plt.ylabel(\"True Positive Rate -->\")\n",
    "plt.title(\"Reciever Operating Characteristics\")"
   ]
  },
  {
   "cell_type": "code",
   "execution_count": 37,
   "id": "71d3b8ca",
   "metadata": {},
   "outputs": [
    {
     "ename": "TypeError",
     "evalue": "Object of type Index is not JSON serializable",
     "output_type": "error",
     "traceback": [
      "\u001b[1;31m---------------------------------------------------------------------------\u001b[0m",
      "\u001b[1;31mTypeError\u001b[0m                                 Traceback (most recent call last)",
      "\u001b[1;32m~\\AppData\\Local\\Temp\\ipykernel_8208\\735944074.py\u001b[0m in \u001b[0;36m<module>\u001b[1;34m\u001b[0m\n\u001b[0;32m      1\u001b[0m \u001b[1;32mimport\u001b[0m \u001b[0mjson\u001b[0m\u001b[1;33m\u001b[0m\u001b[1;33m\u001b[0m\u001b[0m\n\u001b[0;32m      2\u001b[0m \u001b[1;32mwith\u001b[0m \u001b[0mopen\u001b[0m\u001b[1;33m(\u001b[0m\u001b[1;34m'DiabetesJson.json'\u001b[0m\u001b[1;33m,\u001b[0m\u001b[1;34m'w'\u001b[0m\u001b[1;33m)\u001b[0m \u001b[1;32mas\u001b[0m \u001b[0mf\u001b[0m\u001b[1;33m:\u001b[0m\u001b[1;33m\u001b[0m\u001b[1;33m\u001b[0m\u001b[0m\n\u001b[1;32m----> 3\u001b[1;33m     \u001b[0mjson\u001b[0m\u001b[1;33m.\u001b[0m\u001b[0mdump\u001b[0m\u001b[1;33m(\u001b[0m\u001b[1;33m{\u001b[0m\u001b[1;34m'column_names'\u001b[0m\u001b[1;33m:\u001b[0m\u001b[1;33m[\u001b[0m\u001b[0mdf\u001b[0m\u001b[1;33m.\u001b[0m\u001b[0mcolumns\u001b[0m\u001b[1;33m]\u001b[0m\u001b[1;33m}\u001b[0m\u001b[1;33m,\u001b[0m\u001b[0mf\u001b[0m\u001b[1;33m)\u001b[0m\u001b[1;33m\u001b[0m\u001b[1;33m\u001b[0m\u001b[0m\n\u001b[0m",
      "\u001b[1;32m~\\anaconda3\\lib\\json\\__init__.py\u001b[0m in \u001b[0;36mdump\u001b[1;34m(obj, fp, skipkeys, ensure_ascii, check_circular, allow_nan, cls, indent, separators, default, sort_keys, **kw)\u001b[0m\n\u001b[0;32m    177\u001b[0m     \u001b[1;31m# could accelerate with writelines in some versions of Python, at\u001b[0m\u001b[1;33m\u001b[0m\u001b[1;33m\u001b[0m\u001b[0m\n\u001b[0;32m    178\u001b[0m     \u001b[1;31m# a debuggability cost\u001b[0m\u001b[1;33m\u001b[0m\u001b[1;33m\u001b[0m\u001b[0m\n\u001b[1;32m--> 179\u001b[1;33m     \u001b[1;32mfor\u001b[0m \u001b[0mchunk\u001b[0m \u001b[1;32min\u001b[0m \u001b[0miterable\u001b[0m\u001b[1;33m:\u001b[0m\u001b[1;33m\u001b[0m\u001b[1;33m\u001b[0m\u001b[0m\n\u001b[0m\u001b[0;32m    180\u001b[0m         \u001b[0mfp\u001b[0m\u001b[1;33m.\u001b[0m\u001b[0mwrite\u001b[0m\u001b[1;33m(\u001b[0m\u001b[0mchunk\u001b[0m\u001b[1;33m)\u001b[0m\u001b[1;33m\u001b[0m\u001b[1;33m\u001b[0m\u001b[0m\n\u001b[0;32m    181\u001b[0m \u001b[1;33m\u001b[0m\u001b[0m\n",
      "\u001b[1;32m~\\anaconda3\\lib\\json\\encoder.py\u001b[0m in \u001b[0;36m_iterencode\u001b[1;34m(o, _current_indent_level)\u001b[0m\n\u001b[0;32m    429\u001b[0m             \u001b[1;32myield\u001b[0m \u001b[1;32mfrom\u001b[0m \u001b[0m_iterencode_list\u001b[0m\u001b[1;33m(\u001b[0m\u001b[0mo\u001b[0m\u001b[1;33m,\u001b[0m \u001b[0m_current_indent_level\u001b[0m\u001b[1;33m)\u001b[0m\u001b[1;33m\u001b[0m\u001b[1;33m\u001b[0m\u001b[0m\n\u001b[0;32m    430\u001b[0m         \u001b[1;32melif\u001b[0m \u001b[0misinstance\u001b[0m\u001b[1;33m(\u001b[0m\u001b[0mo\u001b[0m\u001b[1;33m,\u001b[0m \u001b[0mdict\u001b[0m\u001b[1;33m)\u001b[0m\u001b[1;33m:\u001b[0m\u001b[1;33m\u001b[0m\u001b[1;33m\u001b[0m\u001b[0m\n\u001b[1;32m--> 431\u001b[1;33m             \u001b[1;32myield\u001b[0m \u001b[1;32mfrom\u001b[0m \u001b[0m_iterencode_dict\u001b[0m\u001b[1;33m(\u001b[0m\u001b[0mo\u001b[0m\u001b[1;33m,\u001b[0m \u001b[0m_current_indent_level\u001b[0m\u001b[1;33m)\u001b[0m\u001b[1;33m\u001b[0m\u001b[1;33m\u001b[0m\u001b[0m\n\u001b[0m\u001b[0;32m    432\u001b[0m         \u001b[1;32melse\u001b[0m\u001b[1;33m:\u001b[0m\u001b[1;33m\u001b[0m\u001b[1;33m\u001b[0m\u001b[0m\n\u001b[0;32m    433\u001b[0m             \u001b[1;32mif\u001b[0m \u001b[0mmarkers\u001b[0m \u001b[1;32mis\u001b[0m \u001b[1;32mnot\u001b[0m \u001b[1;32mNone\u001b[0m\u001b[1;33m:\u001b[0m\u001b[1;33m\u001b[0m\u001b[1;33m\u001b[0m\u001b[0m\n",
      "\u001b[1;32m~\\anaconda3\\lib\\json\\encoder.py\u001b[0m in \u001b[0;36m_iterencode_dict\u001b[1;34m(dct, _current_indent_level)\u001b[0m\n\u001b[0;32m    403\u001b[0m                 \u001b[1;32melse\u001b[0m\u001b[1;33m:\u001b[0m\u001b[1;33m\u001b[0m\u001b[1;33m\u001b[0m\u001b[0m\n\u001b[0;32m    404\u001b[0m                     \u001b[0mchunks\u001b[0m \u001b[1;33m=\u001b[0m \u001b[0m_iterencode\u001b[0m\u001b[1;33m(\u001b[0m\u001b[0mvalue\u001b[0m\u001b[1;33m,\u001b[0m \u001b[0m_current_indent_level\u001b[0m\u001b[1;33m)\u001b[0m\u001b[1;33m\u001b[0m\u001b[1;33m\u001b[0m\u001b[0m\n\u001b[1;32m--> 405\u001b[1;33m                 \u001b[1;32myield\u001b[0m \u001b[1;32mfrom\u001b[0m \u001b[0mchunks\u001b[0m\u001b[1;33m\u001b[0m\u001b[1;33m\u001b[0m\u001b[0m\n\u001b[0m\u001b[0;32m    406\u001b[0m         \u001b[1;32mif\u001b[0m \u001b[0mnewline_indent\u001b[0m \u001b[1;32mis\u001b[0m \u001b[1;32mnot\u001b[0m \u001b[1;32mNone\u001b[0m\u001b[1;33m:\u001b[0m\u001b[1;33m\u001b[0m\u001b[1;33m\u001b[0m\u001b[0m\n\u001b[0;32m    407\u001b[0m             \u001b[0m_current_indent_level\u001b[0m \u001b[1;33m-=\u001b[0m \u001b[1;36m1\u001b[0m\u001b[1;33m\u001b[0m\u001b[1;33m\u001b[0m\u001b[0m\n",
      "\u001b[1;32m~\\anaconda3\\lib\\json\\encoder.py\u001b[0m in \u001b[0;36m_iterencode_list\u001b[1;34m(lst, _current_indent_level)\u001b[0m\n\u001b[0;32m    323\u001b[0m                 \u001b[1;32melse\u001b[0m\u001b[1;33m:\u001b[0m\u001b[1;33m\u001b[0m\u001b[1;33m\u001b[0m\u001b[0m\n\u001b[0;32m    324\u001b[0m                     \u001b[0mchunks\u001b[0m \u001b[1;33m=\u001b[0m \u001b[0m_iterencode\u001b[0m\u001b[1;33m(\u001b[0m\u001b[0mvalue\u001b[0m\u001b[1;33m,\u001b[0m \u001b[0m_current_indent_level\u001b[0m\u001b[1;33m)\u001b[0m\u001b[1;33m\u001b[0m\u001b[1;33m\u001b[0m\u001b[0m\n\u001b[1;32m--> 325\u001b[1;33m                 \u001b[1;32myield\u001b[0m \u001b[1;32mfrom\u001b[0m \u001b[0mchunks\u001b[0m\u001b[1;33m\u001b[0m\u001b[1;33m\u001b[0m\u001b[0m\n\u001b[0m\u001b[0;32m    326\u001b[0m         \u001b[1;32mif\u001b[0m \u001b[0mnewline_indent\u001b[0m \u001b[1;32mis\u001b[0m \u001b[1;32mnot\u001b[0m \u001b[1;32mNone\u001b[0m\u001b[1;33m:\u001b[0m\u001b[1;33m\u001b[0m\u001b[1;33m\u001b[0m\u001b[0m\n\u001b[0;32m    327\u001b[0m             \u001b[0m_current_indent_level\u001b[0m \u001b[1;33m-=\u001b[0m \u001b[1;36m1\u001b[0m\u001b[1;33m\u001b[0m\u001b[1;33m\u001b[0m\u001b[0m\n",
      "\u001b[1;32m~\\anaconda3\\lib\\json\\encoder.py\u001b[0m in \u001b[0;36m_iterencode\u001b[1;34m(o, _current_indent_level)\u001b[0m\n\u001b[0;32m    436\u001b[0m                     \u001b[1;32mraise\u001b[0m \u001b[0mValueError\u001b[0m\u001b[1;33m(\u001b[0m\u001b[1;34m\"Circular reference detected\"\u001b[0m\u001b[1;33m)\u001b[0m\u001b[1;33m\u001b[0m\u001b[1;33m\u001b[0m\u001b[0m\n\u001b[0;32m    437\u001b[0m                 \u001b[0mmarkers\u001b[0m\u001b[1;33m[\u001b[0m\u001b[0mmarkerid\u001b[0m\u001b[1;33m]\u001b[0m \u001b[1;33m=\u001b[0m \u001b[0mo\u001b[0m\u001b[1;33m\u001b[0m\u001b[1;33m\u001b[0m\u001b[0m\n\u001b[1;32m--> 438\u001b[1;33m             \u001b[0mo\u001b[0m \u001b[1;33m=\u001b[0m \u001b[0m_default\u001b[0m\u001b[1;33m(\u001b[0m\u001b[0mo\u001b[0m\u001b[1;33m)\u001b[0m\u001b[1;33m\u001b[0m\u001b[1;33m\u001b[0m\u001b[0m\n\u001b[0m\u001b[0;32m    439\u001b[0m             \u001b[1;32myield\u001b[0m \u001b[1;32mfrom\u001b[0m \u001b[0m_iterencode\u001b[0m\u001b[1;33m(\u001b[0m\u001b[0mo\u001b[0m\u001b[1;33m,\u001b[0m \u001b[0m_current_indent_level\u001b[0m\u001b[1;33m)\u001b[0m\u001b[1;33m\u001b[0m\u001b[1;33m\u001b[0m\u001b[0m\n\u001b[0;32m    440\u001b[0m             \u001b[1;32mif\u001b[0m \u001b[0mmarkers\u001b[0m \u001b[1;32mis\u001b[0m \u001b[1;32mnot\u001b[0m \u001b[1;32mNone\u001b[0m\u001b[1;33m:\u001b[0m\u001b[1;33m\u001b[0m\u001b[1;33m\u001b[0m\u001b[0m\n",
      "\u001b[1;32m~\\anaconda3\\lib\\json\\encoder.py\u001b[0m in \u001b[0;36mdefault\u001b[1;34m(self, o)\u001b[0m\n\u001b[0;32m    177\u001b[0m \u001b[1;33m\u001b[0m\u001b[0m\n\u001b[0;32m    178\u001b[0m         \"\"\"\n\u001b[1;32m--> 179\u001b[1;33m         raise TypeError(f'Object of type {o.__class__.__name__} '\n\u001b[0m\u001b[0;32m    180\u001b[0m                         f'is not JSON serializable')\n\u001b[0;32m    181\u001b[0m \u001b[1;33m\u001b[0m\u001b[0m\n",
      "\u001b[1;31mTypeError\u001b[0m: Object of type Index is not JSON serializable"
     ]
    }
   ],
   "source": [
    "import json \n",
    "with open('DiabetesJson.json','w') as f:\n",
    "    json.dump({'column_names':[df.columns]},f)"
   ]
  },
  {
   "cell_type": "code",
   "execution_count": 39,
   "id": "66d52abc",
   "metadata": {},
   "outputs": [
    {
     "data": {
      "text/plain": [
       "Index(['Glucose', 'BloodPressure', 'SkinThickness', 'Insulin', 'BMI',\n",
       "       'DiabetesPedigreeFunction', 'Age', 'Outcome'],\n",
       "      dtype='object')"
      ]
     },
     "execution_count": 39,
     "metadata": {},
     "output_type": "execute_result"
    }
   ],
   "source": [
    "df.columns"
   ]
  },
  {
   "cell_type": "code",
   "execution_count": 33,
   "id": "39085487",
   "metadata": {},
   "outputs": [],
   "source": [
    "import pickle \n",
    "with open('Diabetes.pkl', 'wb') as f:\n",
    "    pickle.dump(model, f)"
   ]
  },
  {
   "cell_type": "code",
   "execution_count": 40,
   "id": "d5c030dd",
   "metadata": {},
   "outputs": [
    {
     "data": {
      "text/plain": [
       "Glucose                     85.000\n",
       "BloodPressure               66.000\n",
       "SkinThickness               29.000\n",
       "Insulin                      0.000\n",
       "BMI                         26.600\n",
       "DiabetesPedigreeFunction     0.351\n",
       "Age                         31.000\n",
       "Outcome                      0.000\n",
       "Name: 1, dtype: float64"
      ]
     },
     "execution_count": 40,
     "metadata": {},
     "output_type": "execute_result"
    }
   ],
   "source": [
    "df.iloc[1,:]"
   ]
  },
  {
   "cell_type": "code",
   "execution_count": null,
   "id": "ced984a8",
   "metadata": {},
   "outputs": [],
   "source": []
  }
 ],
 "metadata": {
  "kernelspec": {
   "display_name": "Python 3 (ipykernel)",
   "language": "python",
   "name": "python3"
  },
  "language_info": {
   "codemirror_mode": {
    "name": "ipython",
    "version": 3
   },
   "file_extension": ".py",
   "mimetype": "text/x-python",
   "name": "python",
   "nbconvert_exporter": "python",
   "pygments_lexer": "ipython3",
   "version": "3.9.13"
  }
 },
 "nbformat": 4,
 "nbformat_minor": 5
}
